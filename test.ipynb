{
 "cells": [
  {
   "cell_type": "code",
   "execution_count": 1,
   "metadata": {},
   "outputs": [],
   "source": [
    "from ML_Api import load_model, load_model_and_resources, process_user_input, predict_box_office"
   ]
  },
  {
   "cell_type": "code",
   "execution_count": 2,
   "metadata": {},
   "outputs": [],
   "source": [
    "model, features, scaler = load_model_and_resources()"
   ]
  },
  {
   "cell_type": "code",
   "execution_count": null,
   "metadata": {},
   "outputs": [],
   "source": [
    "user_input = {\n",
    "        'Running time': 144,  # in movie collection\n",
    "        'budget': 50000000, # in movie collection\n",
    "        'Actors Box Office %': 50,  # Percentage that reflects how many times the actors managed to at least double the budget in their other films movies\n",
    "        'Director Box Office %': 69.23,  # Percentage that reflects how many times the director managed to at least double the budget in their other films movies\n",
    "        'Oscar and Golden Globes nominations': 0,  # in the movie_performance collection\n",
    "        'Release year': 2016,  # in movie collection\n",
    "        'IMDb score': 7.4, # in movie collection\n",
    "    }\n",
    "\n"
   ]
  },
  {
   "cell_type": "code",
   "execution_count": 11,
   "metadata": {},
   "outputs": [
    {
     "name": "stdout",
     "output_type": "stream",
     "text": [
      "Input Data Columns: Index(['log_budget', 'Director Box Office %', 'Actors Box Office %',\n",
      "       'Running time', 'IMDb score', 'Release year'],\n",
      "      dtype='object')\n",
      "Feature Columns: ['log_budget', 'Director Box Office %', 'Actors Box Office %', 'Running time', 'IMDb score', 'Release year']\n"
     ]
    }
   ],
   "source": [
    "# Step 3: Process user input\n",
    "input_scaled = process_user_input(user_input, features, scaler)\n",
    "\n"
   ]
  },
  {
   "cell_type": "code",
   "execution_count": 12,
   "metadata": {},
   "outputs": [
    {
     "name": "stdout",
     "output_type": "stream",
     "text": [
      "Predicted log-transformed Box Office: [18.02074233]\n",
      "Predicted final Box Office: [67036132.30023979]\n"
     ]
    }
   ],
   "source": [
    "# Step 4: Get predicted box office value\n",
    "predicted_box_office = predict_box_office(model, input_scaled)\n"
   ]
  },
  {
   "cell_type": "code",
   "execution_count": 13,
   "metadata": {},
   "outputs": [
    {
     "name": "stdout",
     "output_type": "stream",
     "text": [
      "Predicted Box Office: [67036132.30023979]\n"
     ]
    }
   ],
   "source": [
    "\n",
    "# Step 5: Print the predicted box office\n",
    "print(f\"Predicted Box Office: {predicted_box_office}\")"
   ]
  }
 ],
 "metadata": {
  "kernelspec": {
   "display_name": "Python 3",
   "language": "python",
   "name": "python3"
  },
  "language_info": {
   "codemirror_mode": {
    "name": "ipython",
    "version": 3
   },
   "file_extension": ".py",
   "mimetype": "text/x-python",
   "name": "python",
   "nbconvert_exporter": "python",
   "pygments_lexer": "ipython3",
   "version": "3.11.5"
  }
 },
 "nbformat": 4,
 "nbformat_minor": 2
}
