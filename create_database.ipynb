{
 "cells": [
  {
   "cell_type": "code",
   "execution_count": 42,
   "id": "25fd9a7b-e6f3-471a-bedf-5cc97711f885",
   "metadata": {},
   "outputs": [
    {
     "name": "stdout",
     "output_type": "stream",
     "text": [
      "Requirement already satisfied: pymongo in c:\\users\\owner\\anaconda3\\lib\\site-packages (4.10.1)\n",
      "Requirement already satisfied: dnspython<3.0.0,>=1.16.0 in c:\\users\\owner\\anaconda3\\lib\\site-packages (from pymongo) (2.7.0)\n",
      "Note: you may need to restart the kernel to use updated packages.\n",
      "Requirement already satisfied: faker in c:\\users\\owner\\anaconda3\\lib\\site-packages (33.1.0)\n",
      "Requirement already satisfied: python-dateutil>=2.4 in c:\\users\\owner\\anaconda3\\lib\\site-packages (from faker) (2.9.0.post0)\n",
      "Requirement already satisfied: typing-extensions in c:\\users\\owner\\anaconda3\\lib\\site-packages (from faker) (4.11.0)\n",
      "Requirement already satisfied: six>=1.5 in c:\\users\\owner\\anaconda3\\lib\\site-packages (from python-dateutil>=2.4->faker) (1.16.0)\n",
      "Note: you may need to restart the kernel to use updated packages.\n"
     ]
    }
   ],
   "source": [
    "%pip install pymongo\n",
    "%pip install faker"
   ]
  },
  {
   "cell_type": "code",
   "execution_count": 43,
   "id": "2b628320-0530-4f0f-b194-04175dbeae3d",
   "metadata": {},
   "outputs": [],
   "source": [
    "import csv\n",
    "from pymongo import MongoClient\n",
    "\n",
    "import random\n",
    "from faker import Faker\n",
    "\n",
    "fake = Faker()"
   ]
  },
  {
   "cell_type": "code",
   "execution_count": 44,
   "id": "13bed4a6",
   "metadata": {},
   "outputs": [],
   "source": [
    "client = MongoClient(\"mongodb://localhost:27017/\")\n",
    "db = client[\"movie_database\"] "
   ]
  },
  {
   "cell_type": "code",
   "execution_count": 45,
   "id": "8536a638",
   "metadata": {},
   "outputs": [],
   "source": [
    "#Create movie collection\n",
    "movie_collection = db[\"movie\"]\n",
    "\n",
    "# Read movies data CSV and insert into movie collection\n",
    "with open('movies_data.csv', mode='r', encoding='latin1') as file:\n",
    "    reader = csv.DictReader(file)\n",
    "    for row in reader:\n",
    "        # Create the movie document\n",
    "        movie = {\n",
    "            \"title\": row['Movie'],\n",
    "            \"director\": row['Director'],\n",
    "            \"actors\": [row['Actor 1'], row['Actor 2'], row['Actor 3']],\n",
    "            \"genre\": row['Genre'],\n",
    "            \"budget\": int(row['Budget']),\n",
    "            \"release_year\": int(row['Release year']),\n",
    "            \"imdb_score\": float(row['IMDb score']),\n",
    "            \"description\": \"N/A\"  # Placeholder for description, will be updated later\n",
    "        }\n",
    "        movie_collection.insert_one(movie)\n",
    "\n",
    "#set description\n",
    "with open('imdb_top_1000.csv', mode='r', encoding='latin1') as file:\n",
    "    reader = csv.DictReader(file)\n",
    "    for row in reader:\n",
    "        movie_collection.update_one(\n",
    "            {\"title\": row['Series_Title']},\n",
    "            {\"$set\": {\n",
    "                \"description\": row['Overview'],\n",
    "            }}\n",
    "        )"
   ]
  },
  {
   "cell_type": "code",
   "execution_count": 46,
   "id": "044ab8de",
   "metadata": {},
   "outputs": [],
   "source": [
    "#Create movie performance collection\n",
    "movie_performance_collection = db[\"movie_performance\"]\n",
    "\n",
    "with open('movies_data.csv', mode='r', encoding='latin1') as file:\n",
    "    reader = csv.DictReader(file)\n",
    "    for row in reader:\n",
    "        oscars_and_golden_globes_awards = row['Oscar and Golden Globes awards'].strip()\n",
    "        if oscars_and_golden_globes_awards == '':\n",
    "            oscars_and_golden_globes_awards = 0\n",
    "        else:\n",
    "            oscars_and_golden_globes_awards = int(oscars_and_golden_globes_awards)\n",
    "\n",
    "        # Find the movie by title in the movie collection\n",
    "        movie = movie_collection.find_one({\"title\": row['Movie']})\n",
    "        \n",
    "        if movie:  # If the movie exists in the movie collection\n",
    "            movie_id = movie['_id']  # Get the movie's ObjectId\n",
    "            \n",
    "            # Create the movie performance document\n",
    "            movie_performance = {\n",
    "                \"movie_id\": movie_id,  # Link to the movie collection by ObjectId\n",
    "                \"final_box_office\": int(row['Box Office']),\n",
    "                \"earnings\": int(row['Earnings']),\n",
    "                \"actor_boxoffice_%\": float(row['Actors Box Office %']),\n",
    "                \"director_boxoffice_%\": float(row['Director Box Office %']),\n",
    "                \"oscars_and_golden_globes_nominations\": int(row['Oscar and Golden Globes nominations']),\n",
    "                \"oscars_and_golden_globes_awards\": oscars_and_golden_globes_awards,\n",
    "                \"performance\": \"N/A\"  # performance that difference between predict and actual\n",
    "            }\n",
    "\n",
    "            movie_performance_collection.insert_one(movie_performance)"
   ]
  },
  {
   "cell_type": "code",
   "execution_count": 47,
   "id": "ed31c173-9b57-4e29-904c-3801daec8132",
   "metadata": {},
   "outputs": [
    {
     "name": "stdout",
     "output_type": "stream",
     "text": [
      "fake user records inserted successfully!\n"
     ]
    }
   ],
   "source": [
    "#Create user collection\n",
    "user_collection = db[\"users\"]\n",
    "\n",
    "user_data_list = []\n",
    "for _ in range(10):\n",
    "    registration_date = fake.date_this_decade()\n",
    "    last_login = fake.date_this_month()\n",
    "\n",
    "    # Convert dates to strings in the format \"YYYY-MM-DD\"\n",
    "    registration_date_str = registration_date.strftime(\"%Y-%m-%d\")\n",
    "    last_login_str = last_login.strftime(\"%Y-%m-%d\")\n",
    "\n",
    "    user_data = {\n",
    "        \"username\": fake.user_name(),\n",
    "        \"email\": fake.email(),\n",
    "        \"full_name\": fake.name(),\n",
    "        \"registration_date\": registration_date_str,\n",
    "        \"last_login\": last_login_str,\n",
    "        \"preferred_language\": random.choice([\"English\", \"French\", \"Spanish\", \"German\", \"Italian\", \"Japanese\", \"Korean\", \"Portuguese\", \"Chinese\"])\n",
    "    }\n",
    "    user_data_list.append(user_data)\n",
    "\n",
    "# Insert the user data into the collection\n",
    "user_collection.insert_many(user_data_list)\n",
    "\n",
    "print(\"fake user records inserted successfully!\")"
   ]
  },
  {
   "cell_type": "code",
   "execution_count": 48,
   "id": "9e7150ee-e1a3-4838-8442-531c82d7df04",
   "metadata": {},
   "outputs": [
    {
     "data": {
      "text/plain": [
       "InsertManyResult([ObjectId('674c02e483e2d79fa3fd8997'), ObjectId('674c02e483e2d79fa3fd8998'), ObjectId('674c02e483e2d79fa3fd8999'), ObjectId('674c02e483e2d79fa3fd899a'), ObjectId('674c02e483e2d79fa3fd899b'), ObjectId('674c02e483e2d79fa3fd899c'), ObjectId('674c02e483e2d79fa3fd899d'), ObjectId('674c02e483e2d79fa3fd899e'), ObjectId('674c02e483e2d79fa3fd899f'), ObjectId('674c02e483e2d79fa3fd89a0')], acknowledged=True)"
      ]
     },
     "execution_count": 48,
     "metadata": {},
     "output_type": "execute_result"
    }
   ],
   "source": [
    "#Create feature usage collection\n",
    "feature_usage_collection = db[\"feature_usage\"]\n",
    "\n",
    "feature_usage_data_list = []\n",
    "for _ in range(10):\n",
    "    user_id = random.choice(user_data_list)['username']  # Choose a random user from the user data\n",
    "    feature_name = random.choice([\"box_office_prediction\", \"movie_trends\", \"earnings_analysis\", \"genre_insight\", \"release_year_comparison\"])\n",
    "    interaction_date = fake.date_this_year()  # Generate a random date within this year\n",
    "    interaction_date_str = interaction_date.strftime(\"%Y-%m-%d\")# Convert the date to string format (e.g., '2024-05-10')\n",
    "    interaction_details = f\"User interacted with {feature_name} to analyze movies.\"\n",
    "    \n",
    "    # Prediction outcome, could be \"success\", \"failure\", or \"N/A\"\n",
    "    prediction_outcome = random.choice([\"success\", \"failure\", \"N/A\"])\n",
    "    \n",
    "    feature_usage_data = {\n",
    "        \"user_id\": user_id,\n",
    "        \"feature_name\": feature_name,\n",
    "        \"interaction_date\": interaction_date_str,\n",
    "        \"interaction_details\": interaction_details,\n",
    "        \"prediction_outcome\": prediction_outcome\n",
    "    }\n",
    "    feature_usage_data_list.append(feature_usage_data)\n",
    "\n",
    "feature_usage_collection.insert_many(feature_usage_data_list)"
   ]
  },
  {
   "cell_type": "code",
   "execution_count": 49,
   "id": "95546e03-e778-409b-96b0-a8bb3786c7ef",
   "metadata": {},
   "outputs": [
    {
     "data": {
      "text/plain": [
       "UpdateResult({'n': 10, 'nModified': 10, 'ok': 1.0, 'updatedExisting': True}, acknowledged=True)"
      ]
     },
     "execution_count": 49,
     "metadata": {},
     "output_type": "execute_result"
    }
   ],
   "source": [
    "user_collection.update_many({}, {\"$set\": {\"role\": \"user\"}})"
   ]
  },
  {
   "cell_type": "code",
   "execution_count": null,
   "id": "10e7566c",
   "metadata": {},
   "outputs": [],
   "source": []
  },
  {
   "cell_type": "code",
   "execution_count": null,
   "id": "b1fcaaee",
   "metadata": {},
   "outputs": [],
   "source": []
  }
 ],
 "metadata": {
  "kernelspec": {
   "display_name": "base",
   "language": "python",
   "name": "python3"
  },
  "language_info": {
   "codemirror_mode": {
    "name": "ipython",
    "version": 3
   },
   "file_extension": ".py",
   "mimetype": "text/x-python",
   "name": "python",
   "nbconvert_exporter": "python",
   "pygments_lexer": "ipython3",
   "version": "3.12.4"
  }
 },
 "nbformat": 4,
 "nbformat_minor": 5
}
